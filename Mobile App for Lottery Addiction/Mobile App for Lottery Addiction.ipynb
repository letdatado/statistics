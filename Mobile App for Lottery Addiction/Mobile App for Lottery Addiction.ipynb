{
 "cells": [
  {
   "cell_type": "markdown",
   "metadata": {},
   "source": [
    "# A Probabilistic Core of a Mobile App for Lottery Addiction"
   ]
  },
  {
   "cell_type": "markdown",
   "metadata": {},
   "source": [
    "![gambling.png](online-gambling-word-cloud.png)"
   ]
  },
  {
   "cell_type": "markdown",
   "metadata": {},
   "source": [
    "## Introduction:\n",
    "Many people start playing the lottery for fun, but for some this activity turns into a habit which eventually escalates into addiction. Like other compulsive gamblers, lottery addicts soon begin spending from their savings and loans, they start to accumulate debts, and eventually engage in desperate behaviors like theft.\n",
    "\n",
    "\n",
    "\n",
    "## Goal:\n",
    "A medical institute that aims to prevent and treat gambling addictions wants to build a dedicated mobile app to help lottery addicts better estimate their chances of winning. The institute has a team of engineers that will build the app, but they need us to create the logical core of the app and calculate probabilities.\n",
    "\n",
    "For the first version of the app, they want us to focus on the [6/49 lottery](https://en.wikipedia.org/wiki/Lotto_6/49) and build functions that enable users to answer questions like:\n",
    "\n",
    "- What is the probability of winning the big prize with a single ticket?\n",
    "- What is the probability of winning the big prize if we play 40 different tickets (or any other number)?\n",
    "- What is the probability of having at least five (or four, or three, or two) winning numbers on a single ticket?\n",
    "\n",
    "### Resources:\n",
    "The institute also wants us to consider historical data coming from the national 6/49 lottery game in Canada. [The data set](https://www.kaggle.com/datascienceai/lottery-dataset) has data for 3,665 drawings, dating from 1982 to 2018 (we'll come back to this)."
   ]
  },
  {
   "cell_type": "markdown",
   "metadata": {},
   "source": [
    "---"
   ]
  },
  {
   "cell_type": "markdown",
   "metadata": {},
   "source": [
    "Throughout the project, we'll need to calculate repeatedly probabilities and combinations. As a consequence, we'll start by writing two functions that we'll use often:\n",
    "\n",
    "- A function that calculates factorials; \n",
    "\n",
    "\\begin{equation}\n",
    "n! = n \\times (n - 1) \\times (n - 2) \\times ... \\times 2 \\times 1\n",
    "\\end{equation}\n",
    "- A function that calculates combinations.\n",
    "\n",
    "\\begin{equation}\n",
    "_nC_k = {n \\choose k} =  \\frac{n!}{k!(n-k)!}\n",
    "\\end{equation}"
   ]
  },
  {
   "cell_type": "code",
   "execution_count": 25,
   "metadata": {},
   "outputs": [],
   "source": [
    "def factorial(n):\n",
    "    '''\n",
    "    This function calculates factorial\n",
    "    of the number\n",
    "    \n",
    "    Args:\n",
    "        n : int\n",
    "        \n",
    "    Returns:\n",
    "        int, factorial of the number\n",
    "    '''\n",
    "    final = 1\n",
    "    for i in range(n, 0, -1): # start=n, stop=0, step=-1\n",
    "        final *= i\n",
    "    return final"
   ]
  },
  {
   "cell_type": "code",
   "execution_count": 35,
   "metadata": {},
   "outputs": [],
   "source": [
    "def combinations(n,k):\n",
    "    '''\n",
    "    This function calculates number of\n",
    "    combinations\n",
    "    \n",
    "    Args:\n",
    "        n = total number of objects\n",
    "        k = number of choosing objects\n",
    "        \n",
    "    Returns:\n",
    "        int, number of combinations\n",
    "    '''\n",
    "    numerator = factorial(n)\n",
    "    denominator = factorial(k) * factorial(n-k)\n",
    "    formula = numerator/denominator\n",
    "    return formula"
   ]
  },
  {
   "cell_type": "markdown",
   "metadata": {},
   "source": [
    "---"
   ]
  },
  {
   "cell_type": "markdown",
   "metadata": {},
   "source": [
    "In the 6/49 lottery, six numbers are drawn from a set of 49 numbers that range from 1 to 49. A player wins the big prize if the six numbers on their tickets match all the six numbers drawn. If a player has a ticket with the numbers {13, 22, 24, 27, 42, 44}, he only wins the big prize if the numbers drawn are {13, 22, 24, 27, 42, 44}. If only one number differs, he doesn't win.\n",
    "\n",
    "For the first version of the app, we want players to be able to calculate the probability of winning the big prize with the various numbers they play on a single ticket (for each ticket a player chooses six numbers out of 49). So, we'll start by building a function that calculates the probability of winning the big prize for any given ticket.\n",
    "\n",
    "We discussed with the engineering team of the medical institute, and they told us we need to be aware of the following details when we write the function:\n",
    "\n",
    "- Inside the app, the user inputs six different numbers from 1 to 49.\n",
    "- Under the hood, the six numbers will come as a Python list, which will serve as the single input to our function.\n",
    "- The engineering team wants the function to print the probability value in a friendly way — in a way that people without any probability training are able to understand.\n",
    "\n",
    "\n",
    "Let's try to write this function!"
   ]
  },
  {
   "cell_type": "code",
   "execution_count": 87,
   "metadata": {},
   "outputs": [],
   "source": [
    "def one_ticket_probability(list_of_6):\n",
    "    '''\n",
    "    This function calculates probability \n",
    "    of winning the lottery with single \n",
    "    ticket\n",
    "    \n",
    "    Args:\n",
    "        list_of_6 : The six-digit Ticket number\n",
    "    Returns:\n",
    "        Nicely formatted chances to win\n",
    "    '''\n",
    "    total_outcomes = combinations(49,6)\n",
    "    success_outcome = 1\n",
    "    probability = success_outcome/total_outcomes\n",
    "    prob_pc = probability * 100\n",
    "    print('Hi! The chances that you will win with numbers {} are \\n{:.7f}%\\nThis means that out of {} chances, you have a single chance to win'.format(list_of_6, prob_pc, int(1/probability)))\n",
    "    print('So how Lucky are you feeling?')\n"
   ]
  },
  {
   "cell_type": "code",
   "execution_count": 88,
   "metadata": {},
   "outputs": [
    {
     "name": "stdout",
     "output_type": "stream",
     "text": [
      "Hi! The chances that you will win with numbers [2, 3, 4, 5, 6, 7] are \n",
      "0.0000072%\n",
      "This means that out of 13983816 chances, you have a single chance to win\n",
      "So how Lucky are you feeling?\n"
     ]
    }
   ],
   "source": [
    "# Lets try out our function\n",
    "one_ticket_probability([2,3,4,5,6,7])"
   ]
  },
  {
   "cell_type": "markdown",
   "metadata": {},
   "source": [
    "---"
   ]
  },
  {
   "cell_type": "markdown",
   "metadata": {},
   "source": [
    "For the first version of the app, however, users should also be able to compare their ticket against the historical lottery data in Canada and determine whether they would have ever won by now.\n",
    "\n",
    "So, lets explore the historical data coming from the **Canada 6/49 lottery**."
   ]
  },
  {
   "cell_type": "markdown",
   "metadata": {},
   "source": [
    "## Import Libraries and Load Dataset"
   ]
  },
  {
   "cell_type": "code",
   "execution_count": 93,
   "metadata": {},
   "outputs": [],
   "source": [
    "# Import Libraries\n",
    "import numpy as np\n",
    "import pandas as pd\n",
    "import matplotlib.pyplot as plt\n",
    "import seaborn as sns\n",
    "\n",
    "%matplotlib inline\n"
   ]
  },
  {
   "cell_type": "code",
   "execution_count": 94,
   "metadata": {},
   "outputs": [],
   "source": [
    "# Load Dataset\n",
    "data = pd.read_csv('649.csv')"
   ]
  },
  {
   "cell_type": "code",
   "execution_count": 95,
   "metadata": {},
   "outputs": [
    {
     "data": {
      "text/html": [
       "<div>\n",
       "<style scoped>\n",
       "    .dataframe tbody tr th:only-of-type {\n",
       "        vertical-align: middle;\n",
       "    }\n",
       "\n",
       "    .dataframe tbody tr th {\n",
       "        vertical-align: top;\n",
       "    }\n",
       "\n",
       "    .dataframe thead th {\n",
       "        text-align: right;\n",
       "    }\n",
       "</style>\n",
       "<table border=\"1\" class=\"dataframe\">\n",
       "  <thead>\n",
       "    <tr style=\"text-align: right;\">\n",
       "      <th></th>\n",
       "      <th>PRODUCT</th>\n",
       "      <th>DRAW NUMBER</th>\n",
       "      <th>SEQUENCE NUMBER</th>\n",
       "      <th>DRAW DATE</th>\n",
       "      <th>NUMBER DRAWN 1</th>\n",
       "      <th>NUMBER DRAWN 2</th>\n",
       "      <th>NUMBER DRAWN 3</th>\n",
       "      <th>NUMBER DRAWN 4</th>\n",
       "      <th>NUMBER DRAWN 5</th>\n",
       "      <th>NUMBER DRAWN 6</th>\n",
       "      <th>BONUS NUMBER</th>\n",
       "    </tr>\n",
       "  </thead>\n",
       "  <tbody>\n",
       "    <tr>\n",
       "      <th>0</th>\n",
       "      <td>649</td>\n",
       "      <td>1</td>\n",
       "      <td>0</td>\n",
       "      <td>6/12/1982</td>\n",
       "      <td>3</td>\n",
       "      <td>11</td>\n",
       "      <td>12</td>\n",
       "      <td>14</td>\n",
       "      <td>41</td>\n",
       "      <td>43</td>\n",
       "      <td>13</td>\n",
       "    </tr>\n",
       "    <tr>\n",
       "      <th>1</th>\n",
       "      <td>649</td>\n",
       "      <td>2</td>\n",
       "      <td>0</td>\n",
       "      <td>6/19/1982</td>\n",
       "      <td>8</td>\n",
       "      <td>33</td>\n",
       "      <td>36</td>\n",
       "      <td>37</td>\n",
       "      <td>39</td>\n",
       "      <td>41</td>\n",
       "      <td>9</td>\n",
       "    </tr>\n",
       "    <tr>\n",
       "      <th>2</th>\n",
       "      <td>649</td>\n",
       "      <td>3</td>\n",
       "      <td>0</td>\n",
       "      <td>6/26/1982</td>\n",
       "      <td>1</td>\n",
       "      <td>6</td>\n",
       "      <td>23</td>\n",
       "      <td>24</td>\n",
       "      <td>27</td>\n",
       "      <td>39</td>\n",
       "      <td>34</td>\n",
       "    </tr>\n",
       "    <tr>\n",
       "      <th>3</th>\n",
       "      <td>649</td>\n",
       "      <td>4</td>\n",
       "      <td>0</td>\n",
       "      <td>7/3/1982</td>\n",
       "      <td>3</td>\n",
       "      <td>9</td>\n",
       "      <td>10</td>\n",
       "      <td>13</td>\n",
       "      <td>20</td>\n",
       "      <td>43</td>\n",
       "      <td>34</td>\n",
       "    </tr>\n",
       "    <tr>\n",
       "      <th>4</th>\n",
       "      <td>649</td>\n",
       "      <td>5</td>\n",
       "      <td>0</td>\n",
       "      <td>7/10/1982</td>\n",
       "      <td>5</td>\n",
       "      <td>14</td>\n",
       "      <td>21</td>\n",
       "      <td>31</td>\n",
       "      <td>34</td>\n",
       "      <td>47</td>\n",
       "      <td>45</td>\n",
       "    </tr>\n",
       "  </tbody>\n",
       "</table>\n",
       "</div>"
      ],
      "text/plain": [
       "   PRODUCT  DRAW NUMBER  SEQUENCE NUMBER  DRAW DATE  NUMBER DRAWN 1  \\\n",
       "0      649            1                0  6/12/1982               3   \n",
       "1      649            2                0  6/19/1982               8   \n",
       "2      649            3                0  6/26/1982               1   \n",
       "3      649            4                0   7/3/1982               3   \n",
       "4      649            5                0  7/10/1982               5   \n",
       "\n",
       "   NUMBER DRAWN 2  NUMBER DRAWN 3  NUMBER DRAWN 4  NUMBER DRAWN 5  \\\n",
       "0              11              12              14              41   \n",
       "1              33              36              37              39   \n",
       "2               6              23              24              27   \n",
       "3               9              10              13              20   \n",
       "4              14              21              31              34   \n",
       "\n",
       "   NUMBER DRAWN 6  BONUS NUMBER  \n",
       "0              43            13  \n",
       "1              41             9  \n",
       "2              39            34  \n",
       "3              43            34  \n",
       "4              47            45  "
      ]
     },
     "execution_count": 95,
     "metadata": {},
     "output_type": "execute_result"
    }
   ],
   "source": [
    "data.head()"
   ]
  },
  {
   "cell_type": "code",
   "execution_count": 97,
   "metadata": {},
   "outputs": [
    {
     "data": {
      "text/html": [
       "<div>\n",
       "<style scoped>\n",
       "    .dataframe tbody tr th:only-of-type {\n",
       "        vertical-align: middle;\n",
       "    }\n",
       "\n",
       "    .dataframe tbody tr th {\n",
       "        vertical-align: top;\n",
       "    }\n",
       "\n",
       "    .dataframe thead th {\n",
       "        text-align: right;\n",
       "    }\n",
       "</style>\n",
       "<table border=\"1\" class=\"dataframe\">\n",
       "  <thead>\n",
       "    <tr style=\"text-align: right;\">\n",
       "      <th></th>\n",
       "      <th>PRODUCT</th>\n",
       "      <th>DRAW NUMBER</th>\n",
       "      <th>SEQUENCE NUMBER</th>\n",
       "      <th>DRAW DATE</th>\n",
       "      <th>NUMBER DRAWN 1</th>\n",
       "      <th>NUMBER DRAWN 2</th>\n",
       "      <th>NUMBER DRAWN 3</th>\n",
       "      <th>NUMBER DRAWN 4</th>\n",
       "      <th>NUMBER DRAWN 5</th>\n",
       "      <th>NUMBER DRAWN 6</th>\n",
       "      <th>BONUS NUMBER</th>\n",
       "    </tr>\n",
       "  </thead>\n",
       "  <tbody>\n",
       "    <tr>\n",
       "      <th>3660</th>\n",
       "      <td>649</td>\n",
       "      <td>3587</td>\n",
       "      <td>0</td>\n",
       "      <td>6/6/2018</td>\n",
       "      <td>10</td>\n",
       "      <td>15</td>\n",
       "      <td>23</td>\n",
       "      <td>38</td>\n",
       "      <td>40</td>\n",
       "      <td>41</td>\n",
       "      <td>35</td>\n",
       "    </tr>\n",
       "    <tr>\n",
       "      <th>3661</th>\n",
       "      <td>649</td>\n",
       "      <td>3588</td>\n",
       "      <td>0</td>\n",
       "      <td>6/9/2018</td>\n",
       "      <td>19</td>\n",
       "      <td>25</td>\n",
       "      <td>31</td>\n",
       "      <td>36</td>\n",
       "      <td>46</td>\n",
       "      <td>47</td>\n",
       "      <td>26</td>\n",
       "    </tr>\n",
       "    <tr>\n",
       "      <th>3662</th>\n",
       "      <td>649</td>\n",
       "      <td>3589</td>\n",
       "      <td>0</td>\n",
       "      <td>6/13/2018</td>\n",
       "      <td>6</td>\n",
       "      <td>22</td>\n",
       "      <td>24</td>\n",
       "      <td>31</td>\n",
       "      <td>32</td>\n",
       "      <td>34</td>\n",
       "      <td>16</td>\n",
       "    </tr>\n",
       "    <tr>\n",
       "      <th>3663</th>\n",
       "      <td>649</td>\n",
       "      <td>3590</td>\n",
       "      <td>0</td>\n",
       "      <td>6/16/2018</td>\n",
       "      <td>2</td>\n",
       "      <td>15</td>\n",
       "      <td>21</td>\n",
       "      <td>31</td>\n",
       "      <td>38</td>\n",
       "      <td>49</td>\n",
       "      <td>8</td>\n",
       "    </tr>\n",
       "    <tr>\n",
       "      <th>3664</th>\n",
       "      <td>649</td>\n",
       "      <td>3591</td>\n",
       "      <td>0</td>\n",
       "      <td>6/20/2018</td>\n",
       "      <td>14</td>\n",
       "      <td>24</td>\n",
       "      <td>31</td>\n",
       "      <td>35</td>\n",
       "      <td>37</td>\n",
       "      <td>48</td>\n",
       "      <td>17</td>\n",
       "    </tr>\n",
       "  </tbody>\n",
       "</table>\n",
       "</div>"
      ],
      "text/plain": [
       "      PRODUCT  DRAW NUMBER  SEQUENCE NUMBER  DRAW DATE  NUMBER DRAWN 1  \\\n",
       "3660      649         3587                0   6/6/2018              10   \n",
       "3661      649         3588                0   6/9/2018              19   \n",
       "3662      649         3589                0  6/13/2018               6   \n",
       "3663      649         3590                0  6/16/2018               2   \n",
       "3664      649         3591                0  6/20/2018              14   \n",
       "\n",
       "      NUMBER DRAWN 2  NUMBER DRAWN 3  NUMBER DRAWN 4  NUMBER DRAWN 5  \\\n",
       "3660              15              23              38              40   \n",
       "3661              25              31              36              46   \n",
       "3662              22              24              31              32   \n",
       "3663              15              21              31              38   \n",
       "3664              24              31              35              37   \n",
       "\n",
       "      NUMBER DRAWN 6  BONUS NUMBER  \n",
       "3660              41            35  \n",
       "3661              47            26  \n",
       "3662              34            16  \n",
       "3663              49             8  \n",
       "3664              48            17  "
      ]
     },
     "execution_count": 97,
     "metadata": {},
     "output_type": "execute_result"
    }
   ],
   "source": [
    "data.tail()"
   ]
  },
  {
   "cell_type": "code",
   "execution_count": 99,
   "metadata": {},
   "outputs": [
    {
     "data": {
      "text/plain": [
       "(3665, 11)"
      ]
     },
     "execution_count": 99,
     "metadata": {},
     "output_type": "execute_result"
    }
   ],
   "source": [
    "data.shape"
   ]
  },
  {
   "cell_type": "code",
   "execution_count": 98,
   "metadata": {},
   "outputs": [
    {
     "data": {
      "text/plain": [
       "Index(['PRODUCT', 'DRAW NUMBER', 'SEQUENCE NUMBER', 'DRAW DATE',\n",
       "       'NUMBER DRAWN 1', 'NUMBER DRAWN 2', 'NUMBER DRAWN 3', 'NUMBER DRAWN 4',\n",
       "       'NUMBER DRAWN 5', 'NUMBER DRAWN 6', 'BONUS NUMBER'],\n",
       "      dtype='object')"
      ]
     },
     "execution_count": 98,
     "metadata": {},
     "output_type": "execute_result"
    }
   ],
   "source": [
    "data.columns"
   ]
  },
  {
   "cell_type": "markdown",
   "metadata": {},
   "source": [
    "The data set contains historical data for 3,665 drawings (each row shows data for a single drawing), dating from 1982 to 2018. For each drawing, we can find the six numbers drawn in the following six columns:\n",
    "\n",
    "1. `NUMBER DRAWN 1`\n",
    "2. `NUMBER DRAWN 2`\n",
    "3. `NUMBER DRAWN 3`\n",
    "4. `NUMBER DRAWN 4`\n",
    "5. `NUMBER DRAWN 5`\n",
    "6. `NUMBER DRAWN 6`"
   ]
  },
  {
   "cell_type": "markdown",
   "metadata": {},
   "source": [
    "---"
   ]
  },
  {
   "cell_type": "markdown",
   "metadata": {},
   "source": [
    "### What are the chances that a ticket number has won in past?\n",
    "We're going to write a function that will enable users to compare their ticket against the historical lottery data in Canada and determine whether they would have ever won by now.\n",
    "\n",
    "The engineering team told us that we need to be aware of the following details:\n",
    "\n",
    "- Inside the app, the user inputs six different numbers from 1 to 49.\n",
    "- Under the hood, the six numbers will come as a Python list and serve as an input to our function.\n",
    "- The engineering team wants us to write a function that prints:\n",
    "    - the number of times the combination selected occurred in the Canada data set; and\n",
    "    - the probability of winning the big prize in the next drawing with that combination.\n",
    "\n",
    "We'll now start working on writing this function. \n"
   ]
  },
  {
   "cell_type": "code",
   "execution_count": 116,
   "metadata": {},
   "outputs": [],
   "source": [
    "def extract_numbers(row):\n",
    "    '''\n",
    "    A simple function that extracts data from \n",
    "    the given rows\n",
    "    '''\n",
    "    row = row[4:10]  # index 5-10 contains the numbers\n",
    "    row = set(row) # remove repeatations\n",
    "    return row\n",
    "winning_numbers = data.apply(extract_numbers, axis=1)\n",
    "winning_numbers.head(5)"
   ]
  },
  {
   "cell_type": "code",
   "execution_count": 139,
   "metadata": {},
   "outputs": [],
   "source": [
    "def check_historical_occurences(user_numbers, winning_numbers):\n",
    "    '''\n",
    "    The functions checks if a given combination \n",
    "    of numbers ever occured in past\n",
    "    \n",
    "    Args:\n",
    "        user_numbers: The numbers to be checked\n",
    "        winning_numbers: All winning combinations \n",
    "                         from the past.\n",
    "    Returns:\n",
    "        If the combination ever occured. If it did\n",
    "        then how many times\n",
    "    '''\n",
    "    user_numbers = set(user_numbers)\n",
    "    have_occured = user_numbers == winning_numbers\n",
    "    freq_occured = have_occured.sum()\n",
    "    \n",
    "    if freq_occured > 0:\n",
    "        print('This combination of 6 numbers has occurred {} time(s) in the past.'.format(freq_occured))\n",
    "        print('But your winning odds are the same for the next time,\\nas you have a 0.0000072% chance of winning the big prize in the next \\ndrawing when you use this combination of numbers.')\n",
    "        \n",
    "    else:\n",
    "        print('This combination of 6 numbers has never occurred in the past.')\n",
    "        print('But it doesn\\'t mean it is likely to occur now. You have a \\n0.0000072% chance of winning the big prize in the next drawing\\nwhen you use this combination of numbers.')"
   ]
  },
  {
   "cell_type": "code",
   "execution_count": 140,
   "metadata": {},
   "outputs": [
    {
     "name": "stdout",
     "output_type": "stream",
     "text": [
      "This combination of 6 numbers has occurred 1 time(s) in the past.\n",
      "But your winning odds are the same for the next time,\n",
      "as you have a 0.0000072% chance of winning the big prize in the next \n",
      "drawing when you use this combination of numbers.\n"
     ]
    }
   ],
   "source": [
    "# Testing\n",
    "testset_1 = [33, 36, 37, 39, 8, 41]\n",
    "check_historical_occurences(testset_1, winning_numbers)  # knowingly using an already occured combination"
   ]
  },
  {
   "cell_type": "code",
   "execution_count": 142,
   "metadata": {},
   "outputs": [
    {
     "name": "stdout",
     "output_type": "stream",
     "text": [
      "This combination of 6 numbers has never occurred in the past.\n",
      "But it doesn't mean it is likely to occur now. You have a \n",
      "0.0000072% chance of winning the big prize in the next drawing\n",
      "when you use this combination of numbers.\n"
     ]
    }
   ],
   "source": [
    "# Testing\n",
    "testset_2 = [1, 2, 3, 4, 5, 5]\n",
    "check_historical_occurences(testset_2, winning_numbers)"
   ]
  },
  {
   "cell_type": "markdown",
   "metadata": {},
   "source": [
    "---"
   ]
  },
  {
   "cell_type": "markdown",
   "metadata": {},
   "source": [
    "### What if a person has multiple Tickets?\n",
    "Lottery addicts usually play more than one ticket on a single drawing, thinking that this might increase their chances of winning significantly. Our purpose is to help them better estimate their chances of winning .\n",
    "We've talked with the engineering team and they gave us the following information:\n",
    "\n",
    "- The user will input the number of different tickets they want to play (without inputting the specific combinations they intend to play).\n",
    "- Our function will see an integer between 1 and 13,983,816 (the maximum number of different tickets).\n",
    "- The function should print information about the probability of winning the big prize depending on the number of different tickets played."
   ]
  },
  {
   "cell_type": "code",
   "execution_count": 170,
   "metadata": {},
   "outputs": [],
   "source": [
    "def multi_ticket_probability(num_tickets):\n",
    "     '''\n",
    "    This function calculates  probability of \n",
    "    winning with a multiple number of tickets.\n",
    "    \n",
    "    Args:\n",
    "        num_tickets: Number of tickets\n",
    "    Returns:\n",
    "        Nicely formatted chances to win\n",
    "    '''\n",
    "    total_outcomes = combinations(49,6)\n",
    "    success_outcomes = num_tickets # same as number of tickets.\n",
    "    \n",
    "    probability = success_outcomes/total_outcomes\n",
    "    prob_pc = probability * 100\n",
    "    \n",
    "    if num_tickets == 1:\n",
    "        print('Hi! Your chances to win big prize with {} number of different tickets are {:.6f}%\\nIn other words, you have 1 chance out of {} chances to win big prize'.format(num_tickets, prob_pc, round(1/probability)))\n",
    "    \n",
    "    else:\n",
    "        print('Hi! Your chances to win big prize with {} number of different tickets are {:.6f}%\\nIn other words, you have {} chance out of {} chances to win big prize'.format(num_tickets, prob_pc, num_tickets, int(num_tickets*(1/probability))))\n"
   ]
  },
  {
   "cell_type": "code",
   "execution_count": 184,
   "metadata": {},
   "outputs": [
    {
     "name": "stdout",
     "output_type": "stream",
     "text": [
      "I bought 1 tickets. What are my chances to win?\n",
      "\n",
      "\n",
      "Hi! Your chances to win big prize with 1 number of different tickets are 0.000007%\n",
      "In other words, you have 1 chance out of 13983816 chances to win big prize\n",
      "\n",
      "\n",
      "----------------------------------------------------------------------------------------------------\n",
      "I bought 10 tickets. What are my chances to win?\n",
      "\n",
      "\n",
      "Hi! Your chances to win big prize with 10 number of different tickets are 0.000072%\n",
      "In other words, you have 10 chance out of 13983816 chances to win big prize\n",
      "\n",
      "\n",
      "----------------------------------------------------------------------------------------------------\n",
      "I bought 100 tickets. What are my chances to win?\n",
      "\n",
      "\n",
      "Hi! Your chances to win big prize with 100 number of different tickets are 0.000715%\n",
      "In other words, you have 100 chance out of 13983816 chances to win big prize\n",
      "\n",
      "\n",
      "----------------------------------------------------------------------------------------------------\n",
      "I bought 10000 tickets. What are my chances to win?\n",
      "\n",
      "\n",
      "Hi! Your chances to win big prize with 10000 number of different tickets are 0.071511%\n",
      "In other words, you have 10000 chance out of 13983816 chances to win big prize\n",
      "\n",
      "\n",
      "----------------------------------------------------------------------------------------------------\n",
      "I bought 1000000 tickets. What are my chances to win?\n",
      "\n",
      "\n",
      "Hi! Your chances to win big prize with 1000000 number of different tickets are 7.151124%\n",
      "In other words, you have 1000000 chance out of 13983816 chances to win big prize\n",
      "\n",
      "\n",
      "----------------------------------------------------------------------------------------------------\n",
      "I bought 6991908 tickets. What are my chances to win?\n",
      "\n",
      "\n",
      "Hi! Your chances to win big prize with 6991908 number of different tickets are 50.000000%\n",
      "In other words, you have 6991908 chance out of 13983816 chances to win big prize\n",
      "\n",
      "\n",
      "----------------------------------------------------------------------------------------------------\n",
      "I bought 13983816 tickets. What are my chances to win?\n",
      "\n",
      "\n",
      "Hi! Your chances to win big prize with 13983816 number of different tickets are 100.000000%\n",
      "In other words, you have 13983816 chance out of 13983816 chances to win big prize\n",
      "\n",
      "\n",
      "----------------------------------------------------------------------------------------------------\n"
     ]
    }
   ],
   "source": [
    "# Testing\n",
    "\n",
    "# Following is the list with numbers of tickets a person could buy. Note that its not a ticket number!\n",
    "number_of_tickets = [1, 10, 100, 10000, 1000000, 6991908, 13983816]\n",
    "\n",
    "for quantity in number_of_tickets:\n",
    "    print('I bought {} tickets. What are my chances to win?'.format(quantity))\n",
    "    print('\\n')\n",
    "    multi_ticket_probability(quantity)\n",
    "    print('\\n')\n",
    "    print('-'*100)\n",
    "    "
   ]
  },
  {
   "cell_type": "markdown",
   "metadata": {},
   "source": [
    "---"
   ]
  },
  {
   "cell_type": "markdown",
   "metadata": {},
   "source": [
    "### What if some of the 6 numbers on a ticket match the winning numbers?\n",
    "In most 6/49 lotteries there are smaller prizes if a player's ticket match two, three, four, or five of the six numbers drawn. As a consequence, the users might be interested in knowing the probability of having two, three, four, or five winning numbers.\n",
    "\n",
    "These are the engineering details we'll need to be aware of:\n",
    "\n",
    "- Inside the app, the user inputs:\n",
    "    - six different numbers from 1 to 49; and\n",
    "    - an integer between 2 and 5 that represents the number of winning numbers expected"
   ]
  },
  {
   "cell_type": "code",
   "execution_count": 188,
   "metadata": {},
   "outputs": [],
   "source": [
    "def probability_less_6(num_matched):\n",
    "    '''\n",
    "    This function calculates the probability\n",
    "    of the exact number of digits to match with\n",
    "    the 6 winning digits on a ticket.\n",
    "    \n",
    "    Args:\n",
    "        num_matched: Number of the digits on a \n",
    "                     ticket to match the numbers \n",
    "                     of digits of winning ticket.\n",
    "                     \n",
    "    Returns:\n",
    "        Nicely formatted chances of matching exact\n",
    "        'num_matched' numbers of digits with the\n",
    "        winning digits combination\n",
    "    '''\n",
    "    \n",
    "    if num_matched < 2 or num_matched >5: # Reject if invalid input\n",
    "        return 'You should input a number between 2 and 5 inclusive'\n",
    "    \n",
    "    else:\n",
    "        combinations_matched = combinations(6, num_matched)\n",
    "        combinations_left = combinations(43, 6 - num_matched)\n",
    "        successful_outcomes = combinations_matched * combinations_left\n",
    "\n",
    "        total_outcomes = combinations(49, 6)    \n",
    "        probability = successful_outcomes / total_outcomes\n",
    "\n",
    "        prob_pc = probability * 100    \n",
    "        combinations_success = round(total_outcomes/successful_outcomes)    \n",
    "        print('Hi!, your chances of having exactly {} winning numbers on this ticket are {:.6f}%. In other words, you have a 1 in {:,} chances to win.'.format(num_matched, prob_pc, int(combinations_success)))"
   ]
  },
  {
   "cell_type": "code",
   "execution_count": 196,
   "metadata": {},
   "outputs": [
    {
     "name": "stdout",
     "output_type": "stream",
     "text": [
      "What are my chances to have 2 digits of my ticket to be matched with the winning combination?\n",
      "\n",
      "\n",
      "Hi!, your chances of having 2 winning numbers on this ticket are 13.237803%. In other words, you have a 1 in 8 chances to win.\n",
      "\n",
      "\n",
      "-----------------------------------------------------------------------------------------------------------------------------\n",
      "What are my chances to have 3 digits of my ticket to be matched with the winning combination?\n",
      "\n",
      "\n",
      "Hi!, your chances of having 3 winning numbers on this ticket are 1.765040%. In other words, you have a 1 in 57 chances to win.\n",
      "\n",
      "\n",
      "-----------------------------------------------------------------------------------------------------------------------------\n",
      "What are my chances to have 4 digits of my ticket to be matched with the winning combination?\n",
      "\n",
      "\n",
      "Hi!, your chances of having 4 winning numbers on this ticket are 0.096862%. In other words, you have a 1 in 1,032 chances to win.\n",
      "\n",
      "\n",
      "-----------------------------------------------------------------------------------------------------------------------------\n",
      "What are my chances to have 5 digits of my ticket to be matched with the winning combination?\n",
      "\n",
      "\n",
      "Hi!, your chances of having 5 winning numbers on this ticket are 0.001845%. In other words, you have a 1 in 54,201 chances to win.\n",
      "\n",
      "\n",
      "-----------------------------------------------------------------------------------------------------------------------------\n"
     ]
    }
   ],
   "source": [
    "# Testing \n",
    "number_of_digits = [2, 3, 4, 5]\n",
    "for to_match in number_of_digits:\n",
    "    print('What are my chances to have exactly {} digits of my ticket to be matched with the winning combination?'.format(to_match))\n",
    "    print('\\n')\n",
    "    probability_less_6(to_match)\n",
    "    print('\\n')\n",
    "    print('-'*125)\n"
   ]
  },
  {
   "cell_type": "code",
   "execution_count": 215,
   "metadata": {},
   "outputs": [],
   "source": [
    "def probability_atleast(atleast_num):\n",
    "    '''\n",
    "    This function calculates the probability\n",
    "    of matching atleast the given number of \n",
    "    digits to match the winning combination.\n",
    "    \n",
    "    Args:\n",
    "        num_matched: Number of the digits on a \n",
    "                     ticket to match the numbers \n",
    "                     of digits of winning ticket.\n",
    "                     \n",
    "    Returns:\n",
    "        Nicely formatted chances of matching \n",
    "        'num_matched' numbers of digits with the\n",
    "        winning digits combination\n",
    "    '''\n",
    "    num_success_outcomes = 0\n",
    "    \n",
    "    for i in range(atleast_num, 6+1):\n",
    "        combinations_matched = combinations(6, i)\n",
    "        combinations_left = combinations(43, 6-i)\n",
    "        success_outcomes = combinations_matched * combinations_left\n",
    "        num_success_outcomes += success_outcomes\n",
    "        \n",
    "    total_outcomes = combinations(49, 6)\n",
    "    \n",
    "    probability = num_success_outcomes / total_outcomes\n",
    "    round_prob_pc = round((num_success_outcomes/total_outcomes * 100)) \n",
    "    \n",
    "    print('Hi!, your chances of having atleast {} winning numbers on this ticket are {:.6f}%. In other words, you have a 1 in {} chances to win.'.format(atleast_num, probability, int(total_outcomes/num_success_outcomes)))"
   ]
  },
  {
   "cell_type": "code",
   "execution_count": 216,
   "metadata": {},
   "outputs": [
    {
     "name": "stdout",
     "output_type": "stream",
     "text": [
      "Hi!, your chances of having atleast 2 winning numbers on this ticket are 0.151016%. In other words, you have a 1 in 6 chances to win.\n",
      "============================\n",
      "Hi!, your chances of having atleast 3 winning numbers on this ticket are 0.018638%. In other words, you have a 1 in 53 chances to win.\n",
      "============================\n",
      "Hi!, your chances of having atleast 4 winning numbers on this ticket are 0.000987%. In other words, you have a 1 in 1013 chances to win.\n",
      "============================\n",
      "Hi!, your chances of having atleast 5 winning numbers on this ticket are 0.000019%. In other words, you have a 1 in 53991 chances to win.\n",
      "============================\n"
     ]
    }
   ],
   "source": [
    "for winning_num in [2,3,4,5]:\n",
    "    probability_atleast(winning_num)\n",
    "    print(\"============================\")"
   ]
  },
  {
   "cell_type": "code",
   "execution_count": 218,
   "metadata": {},
   "outputs": [
    {
     "name": "stdout",
     "output_type": "stream",
     "text": [
      "What are my chances to have exactly 2 digits of my ticket to be matched with the winning combination?\n",
      "\n",
      "\n",
      "Hi!, your chances of having atleast 2 winning numbers on this ticket are 0.151016%. In other words, you have a 1 in 6 chances to win.\n",
      "\n",
      "\n",
      "-----------------------------------------------------------------------------------------------------------------------------\n",
      "What are my chances to have exactly 3 digits of my ticket to be matched with the winning combination?\n",
      "\n",
      "\n",
      "Hi!, your chances of having atleast 3 winning numbers on this ticket are 0.018638%. In other words, you have a 1 in 53 chances to win.\n",
      "\n",
      "\n",
      "-----------------------------------------------------------------------------------------------------------------------------\n",
      "What are my chances to have exactly 4 digits of my ticket to be matched with the winning combination?\n",
      "\n",
      "\n",
      "Hi!, your chances of having atleast 4 winning numbers on this ticket are 0.000987%. In other words, you have a 1 in 1013 chances to win.\n",
      "\n",
      "\n",
      "-----------------------------------------------------------------------------------------------------------------------------\n",
      "What are my chances to have exactly 5 digits of my ticket to be matched with the winning combination?\n",
      "\n",
      "\n",
      "Hi!, your chances of having atleast 5 winning numbers on this ticket are 0.000019%. In other words, you have a 1 in 53991 chances to win.\n",
      "\n",
      "\n",
      "-----------------------------------------------------------------------------------------------------------------------------\n"
     ]
    }
   ],
   "source": [
    "# Testing \n",
    "number_of_digits = [2, 3, 4, 5]\n",
    "for atleast_match in number_of_digits:\n",
    "    print('What are my chances to have exactly {} digits of my ticket to be matched with the winning combination?'.format(atleast_match))\n",
    "    print('\\n')\n",
    "    probability_atleast(atleast_match)\n",
    "    print('\\n')\n",
    "    print('-'*125)"
   ]
  },
  {
   "cell_type": "code",
   "execution_count": null,
   "metadata": {},
   "outputs": [],
   "source": []
  }
 ],
 "metadata": {
  "kernelspec": {
   "display_name": "Python 3",
   "language": "python",
   "name": "python3"
  },
  "language_info": {
   "codemirror_mode": {
    "name": "ipython",
    "version": 3
   },
   "file_extension": ".py",
   "mimetype": "text/x-python",
   "name": "python",
   "nbconvert_exporter": "python",
   "pygments_lexer": "ipython3",
   "version": "3.8.3"
  }
 },
 "nbformat": 4,
 "nbformat_minor": 4
}
